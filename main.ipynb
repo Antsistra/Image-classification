{
  "nbformat": 4,
  "nbformat_minor": 0,
  "metadata": {
    "colab": {
      "provenance": [],
      "authorship_tag": "ABX9TyP+p7BnZkOhqImSs4gpw0Rp",
      "include_colab_link": true
    },
    "kernelspec": {
      "name": "python3",
      "display_name": "Python 3"
    },
    "language_info": {
      "name": "python"
    }
  },
  "cells": [
    {
      "cell_type": "markdown",
      "metadata": {
        "id": "view-in-github",
        "colab_type": "text"
      },
      "source": [
        "<a href=\"https://colab.research.google.com/github/Antsistra/Image-classification/blob/main/main.ipynb\" target=\"_parent\"><img src=\"https://colab.research.google.com/assets/colab-badge.svg\" alt=\"Open In Colab\"/></a>"
      ]
    },
    {
      "cell_type": "markdown",
      "source": [
        "# **Personal Details**\n",
        "- Name  : Hadi Nur Muhammad\n",
        "- Github : Github.com/antsistra\n",
        "- Instagram : Instagram.com/antsistra\n"
      ],
      "metadata": {
        "id": "orcWEZcBk_Vm"
      }
    },
    {
      "cell_type": "markdown",
      "source": [
        "# **Image Classification For Dicoding Machine Learning Beginner**\n",
        "This project aims to classify rock-paper-scissors images using TensorFlow."
      ],
      "metadata": {
        "id": "ZZfBWBD2kc0N"
      }
    },
    {
      "cell_type": "markdown",
      "source": [
        "**Step 1 : Importing the Library**"
      ],
      "metadata": {
        "id": "mL0Y-btnl8XF"
      }
    },
    {
      "cell_type": "code",
      "execution_count": null,
      "metadata": {
        "id": "XYBOBlIFkWnC"
      },
      "outputs": [],
      "source": [
        "import tensorflow as tf\n",
        "import zipfile,os,shutil\n",
        "import numpy as np\n",
        "from tensorflow.keras.optimizers import RMSprop\n",
        "from tensorflow.keras.preprocessing.image import ImageDataGenerator\n",
        "from tensorflow.keras.callbacks import TensorBoard, ModelCheckpoint\n",
        "from sklearn.model_selection import train_test_split\n",
        "import matplotlib.pyplot as plt"
      ]
    },
    {
      "cell_type": "markdown",
      "source": [
        "**Step 2 : Load dataset using Wget and Extract the zip dataset file**"
      ],
      "metadata": {
        "id": "jgosok3amEf_"
      }
    },
    {
      "cell_type": "code",
      "source": [
        "!wget --no-check-certificate \\\n",
        "        https://github.com/dicodingacademy/assets/releases/download/release/rockpaperscissors.zip\\\n",
        "        -O /temp/rockpaperscissors.zip\n",
        "\n",
        "zip_file = '/temp/rockpaperscissors.zip'\n",
        "zip_ref = zipfile.ZipFile(zip_file, 'r')\n",
        "zip_ref.extractall('/temp')\n",
        "zip_ref.close()\n"
      ],
      "metadata": {
        "id": "04lKKRqVmCXq"
      },
      "execution_count": null,
      "outputs": []
    }
  ]
}